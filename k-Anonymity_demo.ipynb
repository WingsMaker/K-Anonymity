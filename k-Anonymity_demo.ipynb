{
 "cells": [
  {
   "cell_type": "markdown",
   "metadata": {},
   "source": [
    "## k-Anonymity Library Demo with k=3"
   ]
  },
  {
   "cell_type": "code",
   "execution_count": 1,
   "metadata": {},
   "outputs": [],
   "source": [
    "import warnings\n",
    "warnings.filterwarnings('ignore')"
   ]
  },
  {
   "cell_type": "code",
   "execution_count": 2,
   "metadata": {
    "scrolled": true
   },
   "outputs": [
    {
     "name": "stdout",
     "output_type": "stream",
     "text": [
      "k-Anonymity Class Library with k=3\n"
     ]
    }
   ],
   "source": [
    "import kAnonymityLib as daio_dpt\n",
    "import pandas as pd\n",
    "dai_anonymization = daio_dpt.kAnonymity()\n",
    "print(dai_anonymization)"
   ]
  },
  {
   "cell_type": "code",
   "execution_count": 3,
   "metadata": {},
   "outputs": [],
   "source": [
    "names = ['age',\n",
    " 'workclass',\n",
    " 'fnlwgt',\n",
    " 'education',\n",
    " 'education-num',\n",
    " 'marital-status',\n",
    " 'occupation',\n",
    " 'relationship',\n",
    " 'race',\n",
    " 'sex',\n",
    " 'capital-gain',\n",
    " 'capital-loss',\n",
    " 'hours-per-week',\n",
    " 'native-country',\n",
    " 'income']\n",
    "dai_anonymization.set_headers(names)"
   ]
  },
  {
   "cell_type": "code",
   "execution_count": 4,
   "metadata": {
    "scrolled": true
   },
   "outputs": [],
   "source": [
    "dai_anonymization.read_datafile(\"adult-all.txt\")"
   ]
  },
  {
   "cell_type": "code",
   "execution_count": 5,
   "metadata": {},
   "outputs": [],
   "source": [
    "df = dai_anonymization.dataframe"
   ]
  },
  {
   "cell_type": "code",
   "execution_count": 6,
   "metadata": {},
   "outputs": [],
   "source": [
    "age_range = lambda age: (\"<= 20\" if age <= 20 \n",
    "    else (\"21 - 30\" if age <= 30 \n",
    "    else (\"31 - 40\" if age <= 40 \n",
    "    else (\"41 - 50\" if age <= 50 \n",
    "    else (\"51 - 60\" if age <= 60 \n",
    "    else (\"61 - 70\" if age <= 70 else \"> 70\"))))))"
   ]
  },
  {
   "cell_type": "code",
   "execution_count": 7,
   "metadata": {},
   "outputs": [],
   "source": [
    "df[\"age\"] = df.apply(lambda x: age_range(x.age), axis=1)"
   ]
  },
  {
   "cell_type": "code",
   "execution_count": 8,
   "metadata": {},
   "outputs": [],
   "source": [
    "categorical = ['workclass',\n",
    " 'education',\n",
    " 'marital-status',\n",
    " 'occupation',\n",
    " 'relationship',\n",
    " 'race',\n",
    " 'sex',\n",
    " 'native-country',\n",
    " 'income',\n",
    " 'age']"
   ]
  },
  {
   "cell_type": "code",
   "execution_count": 9,
   "metadata": {},
   "outputs": [],
   "source": [
    "feature_columns = ['race', 'sex', 'age']"
   ]
  },
  {
   "cell_type": "code",
   "execution_count": 10,
   "metadata": {
    "scrolled": true
   },
   "outputs": [],
   "source": [
    "dai_anonymization.set_categorial(categorical)"
   ]
  },
  {
   "cell_type": "code",
   "execution_count": 11,
   "metadata": {
    "scrolled": true
   },
   "outputs": [],
   "source": [
    "dai_anonymization.set_feature_columns(feature_columns)"
   ]
  },
  {
   "cell_type": "code",
   "execution_count": 12,
   "metadata": {
    "scrolled": true
   },
   "outputs": [],
   "source": [
    "dai_anonymization.set_sensitive_column(\"income\")"
   ]
  },
  {
   "cell_type": "code",
   "execution_count": 13,
   "metadata": {
    "scrolled": true
   },
   "outputs": [
    {
     "name": "stdout",
     "output_type": "stream",
     "text": [
      "age               ['31 - 40', '41 - 50', '51 - 60', '21 - 30', '...\n",
      "workclass         [' State-gov', ' Self-emp-not-inc', ' Private'...\n",
      "fnlwgt            [77516, 83311, 215646, 234721, 338409, 284582,...\n",
      "education         [' Bachelors', ' HS-grad', ' 11th', ' Masters'...\n",
      "education-num     [13, 9, 7, 14, 5, 10, 12, 11, 4, 16, 15, 3, 6,...\n",
      "marital-status    [' Never-married', ' Married-civ-spouse', ' Di...\n",
      "occupation        [' Adm-clerical', ' Exec-managerial', ' Handle...\n",
      "relationship      [' Not-in-family', ' Husband', ' Wife', ' Own-...\n",
      "race              [' White', ' Black', ' Asian-Pac-Islander', ' ...\n",
      "sex               [' Male', ' Female']\n",
      "Categories (2, object): [...\n",
      "capital-gain      [2174, 0, 14084, 5178, 5013, 2407, 14344, 1502...\n",
      "capital-loss      [0, 2042, 1408, 1902, 1573, 1887, 1719, 1762, ...\n",
      "hours-per-week    [40, 13, 16, 45, 50, 80, 30, 35, 60, 20, 52, 4...\n",
      "native-country    [' United-States', ' Cuba', ' Jamaica', ' Indi...\n",
      "income            [' <=50k', ' >50k']\n",
      "Categories (2, object): ['...\n",
      "dtype: object\n"
     ]
    }
   ],
   "source": [
    "dd = pd.Series({c: df[c].unique() for c in df})\n",
    "print(dd)"
   ]
  },
  {
   "cell_type": "code",
   "execution_count": 14,
   "metadata": {
    "scrolled": true
   },
   "outputs": [
    {
     "name": "stdout",
     "output_type": "stream",
     "text": [
      "67\n"
     ]
    }
   ],
   "source": [
    "dai_anonymization.partition_dataset()\n",
    "print( len(dai_anonymization.finished_partitions) )"
   ]
  },
  {
   "cell_type": "code",
   "execution_count": 15,
   "metadata": {
    "scrolled": true
   },
   "outputs": [],
   "source": [
    "dai_anonymization.build_anonymized_dataset()"
   ]
  },
  {
   "cell_type": "code",
   "execution_count": 16,
   "metadata": {
    "scrolled": true
   },
   "outputs": [],
   "source": [
    "df1 = dai_anonymization.result_df"
   ]
  },
  {
   "cell_type": "code",
   "execution_count": 17,
   "metadata": {},
   "outputs": [],
   "source": [
    "df1.to_csv(\"result.csv\")"
   ]
  },
  {
   "cell_type": "code",
   "execution_count": 18,
   "metadata": {},
   "outputs": [
    {
     "name": "stdout",
     "output_type": "stream",
     "text": [
      "total records = 48780\n",
      "population size = 48842\n",
      "age\n",
      "21 - 30    12170\n",
      "31 - 40    12838\n",
      "41 - 50    10363\n",
      "51 - 60     6201\n",
      "61 - 70     2726\n",
      "<= 20       3619\n",
      "> 70         863\n",
      "dtype: int64\n"
     ]
    },
    {
     "data": {
      "image/png": "[encoded data removed]",
      "text/plain": [
       "<Figure size 640x480 with 1 Axes>"
      ]
     },
     "metadata": {},
     "output_type": "display_data"
    }
   ],
   "source": [
    "df1.groupby(\"age\").size().plot.bar()\n",
    "print(f\"total records = {df1.age.size}\")\n",
    "print(f\"population size = {df.age.size}\")\n",
    "print(df1.groupby(\"age\").size())"
   ]
  },
  {
   "cell_type": "code",
   "execution_count": null,
   "metadata": {},
   "outputs": [],
   "source": []
  }
 ],
 "metadata": {
  "kernelspec": {
   "display_name": "Python 3 (ipykernel)",
   "language": "python",
   "name": "python3"
  },
  "language_info": {
   "codemirror_mode": {
    "name": "ipython",
    "version": 3
   },
   "file_extension": ".py",
   "mimetype": "text/x-python",
   "name": "python",
   "nbconvert_exporter": "python",
   "pygments_lexer": "ipython3",
   "version": "3.11.5"
  }
 },
 "nbformat": 4,
 "nbformat_minor": 4
}
